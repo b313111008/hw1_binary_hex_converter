{
  "cells": [
    {
      "cell_type": "markdown",
      "metadata": {
        "id": "view-in-github",
        "colab_type": "text"
      },
      "source": [
        "<a href=\"https://colab.research.google.com/github/b313111008/hw1_binary_hex_converter/blob/main/hw1_binary_hex_converter.ipynb\" target=\"_parent\"><img src=\"https://colab.research.google.com/assets/colab-badge.svg\" alt=\"Open In Colab\"/></a>"
      ]
    },
    {
      "cell_type": "code",
      "source": [
        "#@title 預設標題文字\n",
        "G=2**0\n",
        "H=2**1\n",
        "I=2**2\n",
        "J=2**3\n",
        "K=2**4\n",
        "L=2**5\n",
        "M=2**6\n",
        "N=2**7\n",
        "ANS=0\n",
        "ans1=0\n",
        "ans2=0\n",
        "Q=input(\"請輸入0~255之間的數字\")\n",
        "Q=int(Q)\n",
        "if 0<=Q<=255:\n",
        "  if Q>=N:\n",
        "    Q-=N\n",
        "    ANS=10000000\n",
        "  else: ANS+=0\n",
        "  if Q>=M:\n",
        "    Q-=M\n",
        "    ANS+=1000000\n",
        "  else: ANS+=0\n",
        "  if Q>=L:\n",
        "    Q-=L\n",
        "    ANS+=100000\n",
        "  else: ANS+=0\n",
        "  if Q>=K:\n",
        "    Q-=K\n",
        "    ANS+=10000\n",
        "  else: ANS+=0\n",
        "  if Q>=J:\n",
        "    Q-=J\n",
        "    ANS+=1000\n",
        "  else: ANS+=0\n",
        "  if Q>=I:\n",
        "    Q-=I\n",
        "    ANS+=100\n",
        "  else: ANS+=0\n",
        "  if Q>=H:\n",
        "    Q-=H\n",
        "    ANS+=10\n",
        "  else: ANS+=0\n",
        "  if Q>=G:\n",
        "    ANS+=1\n",
        "  else: ANS+=0\n",
        "print(ANS)\n",
        "if ANS>=10**7:\n",
        "  ANS-=10**7\n",
        "  ans1+=J\n",
        "else:ans1+=0\n",
        "if ANS>=1000000:\n",
        "  ANS-=10**6\n",
        "  ans1+=I\n",
        "else:ans1+=0\n",
        "if ANS>=100000:\n",
        "  ANS-=10**5\n",
        "  ans1+=H\n",
        "else:ans1+=0\n",
        "if ANS>=10000:\n",
        "  ANS-=10**4\n",
        "  ans1+=G\n",
        "else:ans1+=0\n",
        "if ANS>=1000:\n",
        "  ANS-=10**3\n",
        "  ans2+=J\n",
        "else:ans2+=0\n",
        "if ANS>=100:\n",
        "  ANS-=10**2\n",
        "  ans2+=I\n",
        "else:ans2+=0\n",
        "if ANS>=10:\n",
        "  ANS-=10\n",
        "  ans2+=H\n",
        "else:ans2+=0\n",
        "if ANS>0:\n",
        "  ANS-=0\n",
        "  ans2+=G\n",
        "else:ans2+=0\n",
        "ATK = {10:\"A\",11:\"B\",12:\"C\",13:\"D\",14:\"E\",15:\"F\",0:\"\"}\n",
        "if ans1 in ATK:\n",
        "  print(ATK[ans1],end=\"\")\n",
        "else:print(ans1,end=\"\")\n",
        "if ans2 in ATK:\n",
        "  print(ATK[ans2])\n",
        "else:print(ans2)"
      ],
      "metadata": {
        "cellView": "code",
        "id": "dRNxbn_cpNV5",
        "colab": {
          "base_uri": "https://localhost:8080/"
        },
        "outputId": "33248d6b-8fec-47f9-cd71-5e3af52b03e3"
      },
      "execution_count": 1,
      "outputs": [
        {
          "output_type": "stream",
          "name": "stdout",
          "text": [
            "請輸入0~255之間的數字234\n",
            "11101010\n",
            "EA\n"
          ]
        }
      ]
    }
  ],
  "metadata": {
    "colab": {
      "toc_visible": true,
      "provenance": [],
      "include_colab_link": true
    },
    "kernelspec": {
      "display_name": "Python 3",
      "name": "python3"
    }
  },
  "nbformat": 4,
  "nbformat_minor": 0
}